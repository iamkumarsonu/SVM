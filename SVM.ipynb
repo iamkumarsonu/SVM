{
 "cells": [
  {
   "cell_type": "code",
   "execution_count": 99,
   "id": "a6c40c93-b305-4d58-9e1d-2026367e5d67",
   "metadata": {},
   "outputs": [],
   "source": [
    "import numpy as np\n",
    "\n",
    "class SVM():\n",
    "    def __init__(self,epoch,learning_rate,lambda_param):\n",
    "        self.epoch = epoch\n",
    "        self.lr = learning_rate\n",
    "        self.w = None\n",
    "        self.b = None\n",
    "        self.lambda_param = None\n",
    "    def fit(self,x,y):\n",
    "        self.w = np.ones((x_train.shape[1],1))\n",
    "        self.b = np.ones((y_train.shape[0],1))\n",
    "        for i in range(self.epoch):\n",
    "            for i in range(len(x)):\n",
    "                y_pred = np.dot(x[i],self.w)+self.b\n",
    "                condition = y_pred*y[i]\n",
    "                if condition >= 1:\n",
    "                    self.w = self.w-(2*self.lambda_param*w)\n",
    "                    self.b = self.b\n",
    "                else:\n",
    "                    self.w = self.w-self.lr*(2*self.lambda_param*w-np.dot(x[i],y[i]))\n",
    "                    self.b = self.b-(self.lr*y[i])\n",
    "    def predict(self,x,y):\n",
    "        predict = np.dot(x,self.w)+self.b\n",
    "        return predict   "
   ]
  },
  {
   "cell_type": "code",
   "execution_count": 100,
   "id": "e564d326-bbf1-4e87-a21b-965b1879ef6c",
   "metadata": {},
   "outputs": [],
   "source": [
    "import pandas as pd\n",
    "path = r\"D:\\ML Algorithms Code\\SVM\\diabetes.csv\"\n",
    "data = pd.read_csv(path,skiprows=1)\n",
    "x_train = data[data.columns[:-1]].values\n",
    "y_train = data[data.columns[-1]].values"
   ]
  },
  {
   "cell_type": "code",
   "execution_count": 101,
   "id": "c96f6d1e-b3c8-4606-b578-affbeb11df92",
   "metadata": {},
   "outputs": [],
   "source": [
    "svm = SVM(10,0.2,0.1)"
   ]
  },
  {
   "cell_type": "code",
   "execution_count": 102,
   "id": "ef87aac9-4b9c-4ced-a777-e0de4014699c",
   "metadata": {},
   "outputs": [
    {
     "ename": "ValueError",
     "evalue": "The truth value of an array with more than one element is ambiguous. Use a.any() or a.all()",
     "output_type": "error",
     "traceback": [
      "\u001b[1;31m---------------------------------------------------------------------------\u001b[0m",
      "\u001b[1;31mValueError\u001b[0m                                Traceback (most recent call last)",
      "Cell \u001b[1;32mIn[102], line 1\u001b[0m\n\u001b[1;32m----> 1\u001b[0m \u001b[43msvm\u001b[49m\u001b[38;5;241;43m.\u001b[39;49m\u001b[43mfit\u001b[49m\u001b[43m(\u001b[49m\u001b[43mx_train\u001b[49m\u001b[43m,\u001b[49m\u001b[43my_train\u001b[49m\u001b[43m)\u001b[49m\n",
      "Cell \u001b[1;32mIn[99], line 17\u001b[0m, in \u001b[0;36mSVM.fit\u001b[1;34m(self, x, y)\u001b[0m\n\u001b[0;32m     15\u001b[0m y_pred \u001b[38;5;241m=\u001b[39m np\u001b[38;5;241m.\u001b[39mdot(x[i],\u001b[38;5;28mself\u001b[39m\u001b[38;5;241m.\u001b[39mw)\u001b[38;5;241m+\u001b[39m\u001b[38;5;28mself\u001b[39m\u001b[38;5;241m.\u001b[39mb\n\u001b[0;32m     16\u001b[0m condition \u001b[38;5;241m=\u001b[39m y_pred\u001b[38;5;241m*\u001b[39my[i]\n\u001b[1;32m---> 17\u001b[0m \u001b[38;5;28;01mif\u001b[39;00m \u001b[43mcondition\u001b[49m\u001b[43m \u001b[49m\u001b[38;5;241;43m>\u001b[39;49m\u001b[38;5;241;43m=\u001b[39;49m\u001b[43m \u001b[49m\u001b[38;5;241;43m1\u001b[39;49m:\n\u001b[0;32m     18\u001b[0m     \u001b[38;5;28mself\u001b[39m\u001b[38;5;241m.\u001b[39mw \u001b[38;5;241m=\u001b[39m \u001b[38;5;28mself\u001b[39m\u001b[38;5;241m.\u001b[39mw\u001b[38;5;241m-\u001b[39m(\u001b[38;5;241m2\u001b[39m\u001b[38;5;241m*\u001b[39m\u001b[38;5;28mself\u001b[39m\u001b[38;5;241m.\u001b[39mlambda_param\u001b[38;5;241m*\u001b[39mw)\n\u001b[0;32m     19\u001b[0m     \u001b[38;5;28mself\u001b[39m\u001b[38;5;241m.\u001b[39mb \u001b[38;5;241m=\u001b[39m \u001b[38;5;28mself\u001b[39m\u001b[38;5;241m.\u001b[39mb\n",
      "\u001b[1;31mValueError\u001b[0m: The truth value of an array with more than one element is ambiguous. Use a.any() or a.all()"
     ]
    }
   ],
   "source": [
    "svm.fit(x_train,y_train)"
   ]
  },
  {
   "cell_type": "code",
   "execution_count": null,
   "id": "3f488915-e082-4871-a519-38a8bec2094a",
   "metadata": {},
   "outputs": [],
   "source": []
  }
 ],
 "metadata": {
  "kernelspec": {
   "display_name": "Python 3 (ipykernel)",
   "language": "python",
   "name": "python3"
  },
  "language_info": {
   "codemirror_mode": {
    "name": "ipython",
    "version": 3
   },
   "file_extension": ".py",
   "mimetype": "text/x-python",
   "name": "python",
   "nbconvert_exporter": "python",
   "pygments_lexer": "ipython3",
   "version": "3.9.0"
  }
 },
 "nbformat": 4,
 "nbformat_minor": 5
}
